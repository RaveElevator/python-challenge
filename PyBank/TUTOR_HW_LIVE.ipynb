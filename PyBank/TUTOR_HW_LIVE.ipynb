{
 "cells": [
  {
   "cell_type": "code",
   "execution_count": 3,
   "metadata": {},
   "outputs": [],
   "source": [
    "import os\n",
    "import csv\n",
    "counter = 0\n",
    "csvpath = os.path.join(\"budget_data.csv\")\n",
    "#set all variables to change\n",
    "total_months = 0\n",
    "profit_loss_total = 0\n",
    "prev_profit_loss = 0\n",
    "changes_profits_each_month = []\n",
    "#avg_change = profit_loss_total / total_months \n",
    "greatest_increase_in_profit = [\"Month-Year\", 0]\n",
    "greatest_decrease_in_profit = [\"Month-Year\", 999999999]"
   ]
  },
  {
   "cell_type": "code",
   "execution_count": 4,
   "metadata": {},
   "outputs": [
    {
     "ename": "IndentationError",
     "evalue": "expected an indented block (<ipython-input-4-64afbcd232e4>, line 21)",
     "output_type": "error",
     "traceback": [
      "\u001b[1;36m  File \u001b[1;32m\"<ipython-input-4-64afbcd232e4>\"\u001b[1;36m, line \u001b[1;32m21\u001b[0m\n\u001b[1;33m    greatest_increase_profit[0] = row[0]\u001b[0m\n\u001b[1;37m                           ^\u001b[0m\n\u001b[1;31mIndentationError\u001b[0m\u001b[1;31m:\u001b[0m expected an indented block\n"
     ]
    }
   ],
   "source": [
    "#open csv file\n",
    "with open(filepath) as financial_data:\n",
    "    reader = csv.reader(financial_data)\n",
    "    #skip header row\n",
    "    header = next(reader)\n",
    "    #loop through csv file\n",
    "    for row in reader:\n",
    "            #track total\n",
    "            total_months += 1\n",
    "            #aka     total_months = total_months +1\n",
    "            \n",
    "            #track total profit loss\n",
    "            profit_loss_total = profit_loss_total + int(row[1])\n",
    "            \n",
    "            #track average profit loss change\n",
    "            change_per_month = int(row[1]) = prev_profit_loss\n",
    "            changes_in_profits_each_month.append(change_per_month)\n",
    "            \n",
    "            #calculate greatest increase\n",
    "            if change_per_month > greatest_increase_profit[1]:\n",
    "            greatest_increase_profit[0] = row[0]\n",
    "            greatest_increase_profit[1] = change_per_month\n",
    "            \n",
    "            #calculate the greatest decrease\n",
    "            if change_per_month < greatest_decrease_profit[1]:\n",
    "            greatest_decrease_profit[0] = row[0]\n",
    "            greatest_decrease_profit[1] = change_per_month\n",
    "\n",
    "            "
   ]
  },
  {
   "cell_type": "code",
   "execution_count": null,
   "metadata": {},
   "outputs": [],
   "source": [
    "avg_change = profit_loss_total / total_months\n",
    "average_change_per_month = sum(changes_in_profits_each_month)/ len(changes_in_profits_each_month)"
   ]
  },
  {
   "cell_type": "code",
   "execution_count": null,
   "metadata": {},
   "outputs": [],
   "source": [
    "#print all variables from above\n",
    "print(f\"Average change: {avg_change}\")\n",
    "print(f\"Average change per month: {average_change_per_month}\") "
   ]
  },
  {
   "cell_type": "code",
   "execution_count": null,
   "metadata": {},
   "outputs": [],
   "source": [
    "  #----------------------------\n",
    "  #Total Months: 86\n",
    "  #Total: $38382578\n",
    "  #Average  Change: $-2315.12\n",
    "  #Greatest Increase in Profits: Feb-2012 ($1926159)\n",
    "  #Greatest Decrease in Profits: Sep-2013 ($-2196167)"
   ]
  }
 ],
 "metadata": {
  "kernelspec": {
   "display_name": "Python [conda env:pythondata]",
   "language": "python",
   "name": "conda-env-pythondata-py"
  },
  "language_info": {
   "codemirror_mode": {
    "name": "ipython",
    "version": 3
   },
   "file_extension": ".py",
   "mimetype": "text/x-python",
   "name": "python",
   "nbconvert_exporter": "python",
   "pygments_lexer": "ipython3",
   "version": "3.6.9"
  }
 },
 "nbformat": 4,
 "nbformat_minor": 2
}
