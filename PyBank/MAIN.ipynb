{
 "cells": [
  {
   "cell_type": "code",
   "execution_count": 38,
   "metadata": {},
   "outputs": [],
   "source": [
    "import os\n",
    "import csv\n",
    "import pandas as pd\n",
    "counter = 0\n",
    "csvpath = os.path.join(\"budget_data.csv\")\n",
    "#set all variables to change\n",
    "total_months = 0\n",
    "profit_loss_total = 0\n",
    "prev_profit_loss = 0\n",
    "changes_profits_each_month = []\n",
    "#avg_change = profit_loss_total / total_months \n",
    "greatest_increase_in_profit = [\"Month-Year\", 0]\n",
    "greatest_decrease_in_profit = [\"Month-Year\", 999999999]\n"
   ]
  },
  {
   "cell_type": "code",
   "execution_count": 11,
   "metadata": {},
   "outputs": [
    {
     "name": "stdout",
     "output_type": "stream",
     "text": [
      "86\n",
      "Average change: 446309.0465116279\n",
      "Average change per month: 446309.0465116279\n"
     ]
    }
   ],
   "source": [
    "csvrows = []\n",
    "#open csv file\n",
    "with open(csvpath, \"r\", newline = \"\") as financial_data:\n",
    "    reader = csv.reader(financial_data)\n",
    "    #skip header row\n",
    "    header = next(reader)\n",
    "    #loop through csv file\n",
    "    for row in reader:\n",
    "            csvrows.append(row)\n",
    "            #track total\n",
    "            total_months = total_months +1\n",
    "            \n",
    "            #track total profit loss\n",
    "            profit_loss_total = profit_loss_total + int(row[1])\n",
    "            \n",
    "            #track average profit loss change\n",
    "            change_per_month = int(row[1]) - prev_profit_loss\n",
    "            changes_profits_each_month.append(change_per_month)\n",
    "            \n",
    "            #calculate greatest increase\n",
    "            if change_per_month > greatest_increase_in_profit[1]:\n",
    "              greatest_increase_in_profit[0] = row[0]\n",
    "              greatest_increase_in_profit[1] = change_per_month\n",
    "\n",
    "            #calculate the greatest decrease\n",
    "            if change_per_month < greatest_decrease_in_profit[1]:\n",
    "              greatest_decrease_in_profit[0] = row[0]\n",
    "              greatest_decrease_in_profit[1] = change_per_month\n",
    "            \n",
    "avg_change = profit_loss_total / total_months\n",
    "average_change_per_month = sum(changes_profits_each_month)/ len(changes_profits_each_month)\n",
    "\n",
    "#print all variables from above\n",
    "print(total_months)\n",
    "print(f\"Average change: {avg_change}\")\n",
    "print(f\"Average change per month: {average_change_per_month}\") \n",
    "\n",
    "  #```text\n",
    " # Financial Analysis\n",
    "  #----------------------------"
   ]
  },
  {
   "cell_type": "code",
   "execution_count": 32,
   "metadata": {},
   "outputs": [
    {
     "data": {
      "text/plain": [
       "86"
      ]
     },
     "execution_count": 32,
     "metadata": {},
     "output_type": "execute_result"
    }
   ],
   "source": [
    "#Total Months: 86\n",
    "months = len(csvrows)\n",
    "months"
   ]
  },
  {
   "cell_type": "code",
   "execution_count": 17,
   "metadata": {},
   "outputs": [
    {
     "data": {
      "text/plain": [
       "38382578"
      ]
     },
     "execution_count": 17,
     "metadata": {},
     "output_type": "execute_result"
    }
   ],
   "source": [
    "moneys = []\n",
    "#Total: $38382578\n",
    "total_count = 0\n",
    "for row in csvrows:\n",
    "    money = int(row[1])\n",
    "    total_count = total_count + money\n",
    "    moneys.append(money)\n",
    "total_count"
   ]
  },
  {
   "cell_type": "code",
   "execution_count": 23,
   "metadata": {},
   "outputs": [
    {
     "data": {
      "text/plain": [
       "-2315.1176470588234"
      ]
     },
     "execution_count": 23,
     "metadata": {},
     "output_type": "execute_result"
    }
   ],
   "source": [
    "#calculate Average  Change: $-2315.12\n",
    "profitchanges = []\n",
    "\n",
    "#get the changes into a list\n",
    "for item in moneys:\n",
    "    index = moneys.index(item)\n",
    "    previousindex = index-1\n",
    "    if index !=0:\n",
    "        change = moneys[index]-moneys[previousindex]\n",
    "        profitchanges.append(change)\n",
    "averagechanges = sum(profitchanges) / len(profitchanges)\n",
    "averagechanges"
   ]
  },
  {
   "cell_type": "code",
   "execution_count": 28,
   "metadata": {},
   "outputs": [
    {
     "name": "stdout",
     "output_type": "stream",
     "text": [
      "Feb-2012 1926159\n"
     ]
    }
   ],
   "source": [
    "#Greatest Increase in Profits: Feb-2012 ($1926159)\n",
    "greatestchange = 0\n",
    "for item in profitchanges:\n",
    "        if item > greatestchange:\n",
    "            greatestchange = item\n",
    "            greatestchange_part = profitchanges.index(item)\n",
    "# get the month to correspond\n",
    "greatestrow = csvrows[greatestchange_part+1]\n",
    "greatestmonth = greatestrow[0]\n",
    "\n",
    "print(str(greatestmonth) + \" \" + (str(greatestchange)))"
   ]
  },
  {
   "cell_type": "code",
   "execution_count": 35,
   "metadata": {},
   "outputs": [
    {
     "name": "stdout",
     "output_type": "stream",
     "text": [
      "Sep-2013 -2196167\n"
     ]
    }
   ],
   "source": [
    "#Greatest Decrease in Profits: Sep-2013 ($-2196167)\n",
    "leastchange = 0\n",
    "for item in profitchanges:\n",
    "        if item < leastchange:\n",
    "            leastchange = item\n",
    "            leastchange_part = profitchanges.index(item)\n",
    "# get the month to correspond\n",
    "leastrow = csvrows[leastchange_part+1]\n",
    "leastmonth = leastrow[0]\n",
    "\n",
    "print(str(leastmonth) + \" \" + (str(leastchange)))"
   ]
  },
  {
   "cell_type": "code",
   "execution_count": 42,
   "metadata": {},
   "outputs": [],
   "source": [
    "#output csv file\n",
    "df = pd.DataFrame({\"Perameter\": [\"Total Months\", \"Total Profit Loss\", \"Average Profit Loss\", \"Greatest Change\", \"Worst Change\"],\n",
    "                \"Answers\": [months, total_count, averagechanges, str(greatestmonth) + \" \" + (str(greatestchange)), str(leastmonth) + \" \" + (str(leastchange))]})\n",
    "df.to_csv(\"output_python_hw.csv\")"
   ]
  },
  {
   "cell_type": "code",
   "execution_count": null,
   "metadata": {},
   "outputs": [],
   "source": [
    "#happy"
   ]
  }
 ],
 "metadata": {
  "kernelspec": {
   "display_name": "Python [conda env:pythondata]",
   "language": "python",
   "name": "conda-env-pythondata-py"
  },
  "language_info": {
   "codemirror_mode": {
    "name": "ipython",
    "version": 3
   },
   "file_extension": ".py",
   "mimetype": "text/x-python",
   "name": "python",
   "nbconvert_exporter": "python",
   "pygments_lexer": "ipython3",
   "version": "3.6.9"
  }
 },
 "nbformat": 4,
 "nbformat_minor": 2
}
